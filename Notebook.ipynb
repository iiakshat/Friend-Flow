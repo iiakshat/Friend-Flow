{
 "cells": [
  {
   "cell_type": "code",
   "execution_count": 1,
   "metadata": {},
   "outputs": [],
   "source": [
    "# Import Libraries,\n",
    "import pandas as pd\n",
    "import re"
   ]
  },
  {
   "cell_type": "code",
   "execution_count": 2,
   "metadata": {},
   "outputs": [],
   "source": [
    "# Read Data,\n",
    "path = 'Data/flipkart.txt'\n",
    "f = open(path, 'r', encoding='utf-8')\n",
    "txt = f.read()"
   ]
  },
  {
   "cell_type": "code",
   "execution_count": 3,
   "metadata": {},
   "outputs": [
    {
     "name": "stdout",
     "output_type": "stream",
     "text": [
      "09/10/21, 2:34 pm - Messages and calls are end-to-end encrypted. No one outside of this chat, not even WhatsApp, can read or listen to them. Tap to learn more.\n",
      "09/10/21, 2:34 pm - This chat is with the official business account of Flipkart. Tap to learn more.\n",
      "09/10/21, 2:34 pm - Flipkart: <Media omitted>\n",
      "09/10/21, 2:34 pm - This chat is with the official business account of Flipkart. Tap to learn more.\n",
      "12/11/21, 11:07 am - This business is now working with other companies to manage this chat. Tap to learn more.\n",
      "18/12/21, 10:10 pm - Flipkart: <Media omitted>\n"
     ]
    }
   ],
   "source": [
    "def fileReader(fileName, msgs, start=0):\n",
    "    try:\n",
    "        print(\"\\n\".join(fileName.split('\\n')[start:msgs]))\n",
    "    except:\n",
    "        print(\"\\n\".join(fileName[start:msgs]))\n",
    "\n",
    "fileReader(txt, 6)"
   ]
  },
  {
   "cell_type": "code",
   "execution_count": 4,
   "metadata": {},
   "outputs": [],
   "source": [
    "# Seperate the messages and dates,\n",
    "pattern = r'\\d{1,2}/\\d{1,2}/\\d{2,4},\\s\\d{1,2}:\\d{2}\\s[a-zA-Z]+\\s-\\s'\n",
    "texts = re.split(pattern, txt)[1:]"
   ]
  },
  {
   "cell_type": "code",
   "execution_count": 5,
   "metadata": {},
   "outputs": [
    {
     "name": "stdout",
     "output_type": "stream",
     "text": [
      "Messages and calls are end-to-end encrypted. No one outside of this chat, not even WhatsApp, can read or listen to them. Tap to learn more.\n",
      "\n",
      "This chat is with the official business account of Flipkart. Tap to learn more.\n",
      "\n",
      "Flipkart: <Media omitted>\n",
      "\n",
      "This chat is with the official business account of Flipkart. Tap to learn more.\n",
      "\n"
     ]
    }
   ],
   "source": [
    "fileReader(texts, 4)"
   ]
  },
  {
   "cell_type": "code",
   "execution_count": 6,
   "metadata": {},
   "outputs": [],
   "source": [
    "dates = re.findall(pattern, txt)"
   ]
  },
  {
   "cell_type": "code",
   "execution_count": 7,
   "metadata": {},
   "outputs": [
    {
     "name": "stdout",
     "output_type": "stream",
     "text": [
      "09/10/21, 2:34 pm - \n",
      "09/10/21, 2:34 pm - \n",
      "09/10/21, 2:34 pm - \n",
      "09/10/21, 2:34 pm - \n",
      "12/11/21, 11:07 am - \n",
      "18/12/21, 10:10 pm - \n"
     ]
    }
   ],
   "source": [
    "fileReader(dates, 6)"
   ]
  },
  {
   "cell_type": "code",
   "execution_count": 8,
   "metadata": {},
   "outputs": [
    {
     "data": {
      "text/plain": [
       "11"
      ]
     },
     "execution_count": 8,
     "metadata": {},
     "output_type": "execute_result"
    }
   ],
   "source": [
    "len(texts)"
   ]
  },
  {
   "cell_type": "code",
   "execution_count": 9,
   "metadata": {},
   "outputs": [
    {
     "data": {
      "text/html": [
       "<div>\n",
       "<style scoped>\n",
       "    .dataframe tbody tr th:only-of-type {\n",
       "        vertical-align: middle;\n",
       "    }\n",
       "\n",
       "    .dataframe tbody tr th {\n",
       "        vertical-align: top;\n",
       "    }\n",
       "\n",
       "    .dataframe thead th {\n",
       "        text-align: right;\n",
       "    }\n",
       "</style>\n",
       "<table border=\"1\" class=\"dataframe\">\n",
       "  <thead>\n",
       "    <tr style=\"text-align: right;\">\n",
       "      <th></th>\n",
       "      <th>messages</th>\n",
       "      <th>date</th>\n",
       "    </tr>\n",
       "  </thead>\n",
       "  <tbody>\n",
       "    <tr>\n",
       "      <th>8</th>\n",
       "      <td>Flipkart: &lt;Media omitted&gt;\\n</td>\n",
       "      <td>12/06/22, 2:00 pm -</td>\n",
       "    </tr>\n",
       "    <tr>\n",
       "      <th>9</th>\n",
       "      <td>This business is now working with other compan...</td>\n",
       "      <td>19/11/23, 8:11 pm -</td>\n",
       "    </tr>\n",
       "    <tr>\n",
       "      <th>7</th>\n",
       "      <td>Flipkart: Select what you want to buy: 👇Shoppi...</td>\n",
       "      <td>20/12/21, 5:27 pm -</td>\n",
       "    </tr>\n",
       "  </tbody>\n",
       "</table>\n",
       "</div>"
      ],
      "text/plain": [
       "                                            messages                  date\n",
       "8                        Flipkart: <Media omitted>\\n  12/06/22, 2:00 pm - \n",
       "9  This business is now working with other compan...  19/11/23, 8:11 pm - \n",
       "7  Flipkart: Select what you want to buy: 👇Shoppi...  20/12/21, 5:27 pm - "
      ]
     },
     "execution_count": 9,
     "metadata": {},
     "output_type": "execute_result"
    }
   ],
   "source": [
    "# Put everything into a data frame.\n",
    "dic = {\n",
    "    'messages' : texts,\n",
    "    'date' : dates\n",
    "}\n",
    "\n",
    "df = pd.DataFrame(dic)\n",
    "df.sample(3)"
   ]
  },
  {
   "cell_type": "code",
   "execution_count": 10,
   "metadata": {},
   "outputs": [
    {
     "data": {
      "text/plain": [
       "'09/10/21, 2:34\\u202fpm - '"
      ]
     },
     "execution_count": 10,
     "metadata": {},
     "output_type": "execute_result"
    }
   ],
   "source": [
    "# Change the date format to datetime format from a string,\n",
    "df.date[0]"
   ]
  },
  {
   "cell_type": "code",
   "execution_count": 11,
   "metadata": {},
   "outputs": [
    {
     "data": {
      "text/html": [
       "<div>\n",
       "<style scoped>\n",
       "    .dataframe tbody tr th:only-of-type {\n",
       "        vertical-align: middle;\n",
       "    }\n",
       "\n",
       "    .dataframe tbody tr th {\n",
       "        vertical-align: top;\n",
       "    }\n",
       "\n",
       "    .dataframe thead th {\n",
       "        text-align: right;\n",
       "    }\n",
       "</style>\n",
       "<table border=\"1\" class=\"dataframe\">\n",
       "  <thead>\n",
       "    <tr style=\"text-align: right;\">\n",
       "      <th></th>\n",
       "      <th>messages</th>\n",
       "      <th>date</th>\n",
       "    </tr>\n",
       "  </thead>\n",
       "  <tbody>\n",
       "    <tr>\n",
       "      <th>5</th>\n",
       "      <td>Flipkart: &lt;Media omitted&gt;\\n</td>\n",
       "      <td>2021-12-18 22:10:00</td>\n",
       "    </tr>\n",
       "  </tbody>\n",
       "</table>\n",
       "</div>"
      ],
      "text/plain": [
       "                      messages                date\n",
       "5  Flipkart: <Media omitted>\\n 2021-12-18 22:10:00"
      ]
     },
     "execution_count": 11,
     "metadata": {},
     "output_type": "execute_result"
    }
   ],
   "source": [
    "df['date'] = pd.to_datetime(df['date'], format='%d/%m/%y, %I:%M %p - ')\n",
    "df.sample()"
   ]
  },
  {
   "cell_type": "code",
   "execution_count": 12,
   "metadata": {},
   "outputs": [
    {
     "name": "stdout",
     "output_type": "stream",
     "text": [
      "<class 'pandas.core.frame.DataFrame'>\n",
      "RangeIndex: 11 entries, 0 to 10\n",
      "Data columns (total 2 columns):\n",
      " #   Column    Non-Null Count  Dtype         \n",
      "---  ------    --------------  -----         \n",
      " 0   messages  11 non-null     object        \n",
      " 1   date      11 non-null     datetime64[ns]\n",
      "dtypes: datetime64[ns](1), object(1)\n",
      "memory usage: 304.0+ bytes\n"
     ]
    }
   ],
   "source": [
    "df.info()"
   ]
  },
  {
   "cell_type": "code",
   "execution_count": 13,
   "metadata": {},
   "outputs": [
    {
     "data": {
      "text/plain": [
       "(11, 2)"
      ]
     },
     "execution_count": 13,
     "metadata": {},
     "output_type": "execute_result"
    }
   ],
   "source": [
    "df.shape"
   ]
  },
  {
   "cell_type": "code",
   "execution_count": 14,
   "metadata": {},
   "outputs": [
    {
     "data": {
      "text/html": [
       "<div>\n",
       "<style scoped>\n",
       "    .dataframe tbody tr th:only-of-type {\n",
       "        vertical-align: middle;\n",
       "    }\n",
       "\n",
       "    .dataframe tbody tr th {\n",
       "        vertical-align: top;\n",
       "    }\n",
       "\n",
       "    .dataframe thead th {\n",
       "        text-align: right;\n",
       "    }\n",
       "</style>\n",
       "<table border=\"1\" class=\"dataframe\">\n",
       "  <thead>\n",
       "    <tr style=\"text-align: right;\">\n",
       "      <th></th>\n",
       "      <th>messages</th>\n",
       "      <th>date</th>\n",
       "      <th>Hour</th>\n",
       "      <th>Minute</th>\n",
       "      <th>Day</th>\n",
       "      <th>Month</th>\n",
       "      <th>Year</th>\n",
       "    </tr>\n",
       "  </thead>\n",
       "  <tbody>\n",
       "    <tr>\n",
       "      <th>6</th>\n",
       "      <td>.: Menu\\n</td>\n",
       "      <td>2021-12-20 17:27:00</td>\n",
       "      <td>17</td>\n",
       "      <td>27</td>\n",
       "      <td>20</td>\n",
       "      <td>December</td>\n",
       "      <td>2021</td>\n",
       "    </tr>\n",
       "    <tr>\n",
       "      <th>9</th>\n",
       "      <td>This business is now working with other compan...</td>\n",
       "      <td>2023-11-19 20:11:00</td>\n",
       "      <td>20</td>\n",
       "      <td>11</td>\n",
       "      <td>19</td>\n",
       "      <td>November</td>\n",
       "      <td>2023</td>\n",
       "    </tr>\n",
       "    <tr>\n",
       "      <th>2</th>\n",
       "      <td>Flipkart: &lt;Media omitted&gt;\\n</td>\n",
       "      <td>2021-10-09 14:34:00</td>\n",
       "      <td>14</td>\n",
       "      <td>34</td>\n",
       "      <td>9</td>\n",
       "      <td>October</td>\n",
       "      <td>2021</td>\n",
       "    </tr>\n",
       "    <tr>\n",
       "      <th>5</th>\n",
       "      <td>Flipkart: &lt;Media omitted&gt;\\n</td>\n",
       "      <td>2021-12-18 22:10:00</td>\n",
       "      <td>22</td>\n",
       "      <td>10</td>\n",
       "      <td>18</td>\n",
       "      <td>December</td>\n",
       "      <td>2021</td>\n",
       "    </tr>\n",
       "    <tr>\n",
       "      <th>0</th>\n",
       "      <td>Messages and calls are end-to-end encrypted. N...</td>\n",
       "      <td>2021-10-09 14:34:00</td>\n",
       "      <td>14</td>\n",
       "      <td>34</td>\n",
       "      <td>9</td>\n",
       "      <td>October</td>\n",
       "      <td>2021</td>\n",
       "    </tr>\n",
       "  </tbody>\n",
       "</table>\n",
       "</div>"
      ],
      "text/plain": [
       "                                            messages                date  \\\n",
       "6                                          .: Menu\\n 2021-12-20 17:27:00   \n",
       "9  This business is now working with other compan... 2023-11-19 20:11:00   \n",
       "2                        Flipkart: <Media omitted>\\n 2021-10-09 14:34:00   \n",
       "5                        Flipkart: <Media omitted>\\n 2021-12-18 22:10:00   \n",
       "0  Messages and calls are end-to-end encrypted. N... 2021-10-09 14:34:00   \n",
       "\n",
       "   Hour  Minute  Day     Month  Year  \n",
       "6    17      27   20  December  2021  \n",
       "9    20      11   19  November  2023  \n",
       "2    14      34    9   October  2021  \n",
       "5    22      10   18  December  2021  \n",
       "0    14      34    9   October  2021  "
      ]
     },
     "execution_count": 14,
     "metadata": {},
     "output_type": "execute_result"
    }
   ],
   "source": [
    "def dateConversion(df):\n",
    "\n",
    "    df['Hour'] = df.date.dt.hour\n",
    "    df['Minute'] = df.date.dt.minute\n",
    "    df['Day'] = df.date.dt.day\n",
    "    df['Month'] = df.date.dt.month_name()\n",
    "    df['Year'] = df.date.dt.year\n",
    "\n",
    "    return df.sample(5)\n",
    "\n",
    "dateConversion(df)\n"
   ]
  },
  {
   "cell_type": "code",
   "execution_count": 15,
   "metadata": {},
   "outputs": [
    {
     "data": {
      "text/html": [
       "<div>\n",
       "<style scoped>\n",
       "    .dataframe tbody tr th:only-of-type {\n",
       "        vertical-align: middle;\n",
       "    }\n",
       "\n",
       "    .dataframe tbody tr th {\n",
       "        vertical-align: top;\n",
       "    }\n",
       "\n",
       "    .dataframe thead th {\n",
       "        text-align: right;\n",
       "    }\n",
       "</style>\n",
       "<table border=\"1\" class=\"dataframe\">\n",
       "  <thead>\n",
       "    <tr style=\"text-align: right;\">\n",
       "      <th></th>\n",
       "      <th>messages</th>\n",
       "      <th>date</th>\n",
       "      <th>Hour</th>\n",
       "      <th>Minute</th>\n",
       "      <th>Day</th>\n",
       "      <th>Month</th>\n",
       "      <th>Year</th>\n",
       "      <th>message</th>\n",
       "      <th>user</th>\n",
       "      <th>media</th>\n",
       "    </tr>\n",
       "  </thead>\n",
       "  <tbody>\n",
       "    <tr>\n",
       "      <th>6</th>\n",
       "      <td>.: Menu\\n</td>\n",
       "      <td>2021-12-20 17:27:00</td>\n",
       "      <td>17</td>\n",
       "      <td>27</td>\n",
       "      <td>20</td>\n",
       "      <td>December</td>\n",
       "      <td>2021</td>\n",
       "      <td>Menu\\n</td>\n",
       "      <td>.</td>\n",
       "      <td>0</td>\n",
       "    </tr>\n",
       "    <tr>\n",
       "      <th>2</th>\n",
       "      <td>Flipkart: &lt;Media omitted&gt;\\n</td>\n",
       "      <td>2021-10-09 14:34:00</td>\n",
       "      <td>14</td>\n",
       "      <td>34</td>\n",
       "      <td>9</td>\n",
       "      <td>October</td>\n",
       "      <td>2021</td>\n",
       "      <td>\\n</td>\n",
       "      <td>Flipkart</td>\n",
       "      <td>1</td>\n",
       "    </tr>\n",
       "    <tr>\n",
       "      <th>0</th>\n",
       "      <td>Messages and calls are end-to-end encrypted. N...</td>\n",
       "      <td>2021-10-09 14:34:00</td>\n",
       "      <td>14</td>\n",
       "      <td>34</td>\n",
       "      <td>9</td>\n",
       "      <td>October</td>\n",
       "      <td>2021</td>\n",
       "      <td>Messages and calls are end-to-end encrypted. N...</td>\n",
       "      <td>Zuckerberg</td>\n",
       "      <td>0</td>\n",
       "    </tr>\n",
       "    <tr>\n",
       "      <th>10</th>\n",
       "      <td>This business is now working with other compan...</td>\n",
       "      <td>2023-12-10 01:16:00</td>\n",
       "      <td>1</td>\n",
       "      <td>16</td>\n",
       "      <td>10</td>\n",
       "      <td>December</td>\n",
       "      <td>2023</td>\n",
       "      <td>This business is now working with other compan...</td>\n",
       "      <td>Zuckerberg</td>\n",
       "      <td>0</td>\n",
       "    </tr>\n",
       "    <tr>\n",
       "      <th>8</th>\n",
       "      <td>Flipkart: &lt;Media omitted&gt;\\n</td>\n",
       "      <td>2022-06-12 14:00:00</td>\n",
       "      <td>14</td>\n",
       "      <td>0</td>\n",
       "      <td>12</td>\n",
       "      <td>June</td>\n",
       "      <td>2022</td>\n",
       "      <td>\\n</td>\n",
       "      <td>Flipkart</td>\n",
       "      <td>1</td>\n",
       "    </tr>\n",
       "  </tbody>\n",
       "</table>\n",
       "</div>"
      ],
      "text/plain": [
       "                                             messages                date  \\\n",
       "6                                           .: Menu\\n 2021-12-20 17:27:00   \n",
       "2                         Flipkart: <Media omitted>\\n 2021-10-09 14:34:00   \n",
       "0   Messages and calls are end-to-end encrypted. N... 2021-10-09 14:34:00   \n",
       "10  This business is now working with other compan... 2023-12-10 01:16:00   \n",
       "8                         Flipkart: <Media omitted>\\n 2022-06-12 14:00:00   \n",
       "\n",
       "    Hour  Minute  Day     Month  Year  \\\n",
       "6     17      27   20  December  2021   \n",
       "2     14      34    9   October  2021   \n",
       "0     14      34    9   October  2021   \n",
       "10     1      16   10  December  2023   \n",
       "8     14       0   12      June  2022   \n",
       "\n",
       "                                              message        user  media  \n",
       "6                                              Menu\\n           .      0  \n",
       "2                                                  \\n    Flipkart      1  \n",
       "0   Messages and calls are end-to-end encrypted. N...  Zuckerberg      0  \n",
       "10  This business is now working with other compan...  Zuckerberg      0  \n",
       "8                                                  \\n    Flipkart      1  "
      ]
     },
     "execution_count": 15,
     "metadata": {},
     "output_type": "execute_result"
    }
   ],
   "source": [
    "def userSeperator(df):\n",
    "    '''\n",
    "    As the messages are in this format: {username}: {His/her message}\n",
    "    Use regex to match and seperate user and message.\n",
    "    '''\n",
    "    usernames = []\n",
    "    messages = []\n",
    "    media = []\n",
    "    pattern = '([\\w\\W]+?):\\s'\n",
    "\n",
    "    for chat in df['messages']:\n",
    "        \n",
    "        content = re.split(pattern, chat)\n",
    "\n",
    "        if content[1:]:      # beginning from the first index as content contains blank ('') string at 0th index.\n",
    "            usernames.append(content[1])\n",
    "            pt = \"<Media omitted>\"\n",
    "            st = content[2]\n",
    "            msg = re.split(pt, st)\n",
    "\n",
    "            if len(msg)==1:\n",
    "                media.append(0)\n",
    "                messages.append(msg[0])\n",
    "\n",
    "            else:\n",
    "                media.append(1)\n",
    "                messages.append(msg[1])\n",
    "\n",
    "        else:\n",
    "            usernames.append('Zuckerberg')\n",
    "            media.append(0)\n",
    "            messages.append(content[0])\n",
    "        \n",
    "    df['message'] = messages\n",
    "    df['user'] = usernames\n",
    "    df['media'] = media\n",
    "    \n",
    "    return df.sample(5)\n",
    "\n",
    "userSeperator(df)"
   ]
  },
  {
   "cell_type": "code",
   "execution_count": 16,
   "metadata": {},
   "outputs": [
    {
     "data": {
      "text/html": [
       "<div>\n",
       "<style scoped>\n",
       "    .dataframe tbody tr th:only-of-type {\n",
       "        vertical-align: middle;\n",
       "    }\n",
       "\n",
       "    .dataframe tbody tr th {\n",
       "        vertical-align: top;\n",
       "    }\n",
       "\n",
       "    .dataframe thead th {\n",
       "        text-align: right;\n",
       "    }\n",
       "</style>\n",
       "<table border=\"1\" class=\"dataframe\">\n",
       "  <thead>\n",
       "    <tr style=\"text-align: right;\">\n",
       "      <th></th>\n",
       "      <th>Hour</th>\n",
       "      <th>Minute</th>\n",
       "      <th>Day</th>\n",
       "      <th>Month</th>\n",
       "      <th>Year</th>\n",
       "      <th>message</th>\n",
       "      <th>user</th>\n",
       "      <th>media</th>\n",
       "    </tr>\n",
       "  </thead>\n",
       "  <tbody>\n",
       "    <tr>\n",
       "      <th>10</th>\n",
       "      <td>1</td>\n",
       "      <td>16</td>\n",
       "      <td>10</td>\n",
       "      <td>December</td>\n",
       "      <td>2023</td>\n",
       "      <td>This business is now working with other compan...</td>\n",
       "      <td>Zuckerberg</td>\n",
       "      <td>0</td>\n",
       "    </tr>\n",
       "    <tr>\n",
       "      <th>4</th>\n",
       "      <td>11</td>\n",
       "      <td>7</td>\n",
       "      <td>12</td>\n",
       "      <td>November</td>\n",
       "      <td>2021</td>\n",
       "      <td>This business is now working with other compan...</td>\n",
       "      <td>Zuckerberg</td>\n",
       "      <td>0</td>\n",
       "    </tr>\n",
       "  </tbody>\n",
       "</table>\n",
       "</div>"
      ],
      "text/plain": [
       "    Hour  Minute  Day     Month  Year  \\\n",
       "10     1      16   10  December  2023   \n",
       "4     11       7   12  November  2021   \n",
       "\n",
       "                                              message        user  media  \n",
       "10  This business is now working with other compan...  Zuckerberg      0  \n",
       "4   This business is now working with other compan...  Zuckerberg      0  "
      ]
     },
     "execution_count": 16,
     "metadata": {},
     "output_type": "execute_result"
    }
   ],
   "source": [
    "# Drop the unncessary columns,\n",
    "df.drop(columns=['date','messages'], inplace=True)\n",
    "df.sample(2)"
   ]
  },
  {
   "cell_type": "markdown",
   "metadata": {},
   "source": [
    "__Other analysis__"
   ]
  },
  {
   "cell_type": "code",
   "execution_count": 19,
   "metadata": {},
   "outputs": [
    {
     "data": {
      "text/plain": [
       "['menu']"
      ]
     },
     "execution_count": 19,
     "metadata": {},
     "output_type": "execute_result"
    }
   ],
   "source": [
    "from App.src import TextPreprocessor as tp\n",
    "\n",
    "with open('Data/stopwords.txt') as f:\n",
    "    stopwords = f.read()\n",
    "    \n",
    "new_df = df[df['user']!='Zuckerberg']\n",
    "processed_msgs = []\n",
    "for i in new_df['message'].values:\n",
    "    html = tp.removeHtml(i)\n",
    "    link = tp.removeUrl(html)\n",
    "    punc = tp.removePunc(link)\n",
    "    final_msg = punc.lower().split()\n",
    "\n",
    "    for word in final_msg:\n",
    "        if word not in stopwords:\n",
    "            processed_msgs.append(word)\n",
    "\n",
    "processed_msgs"
   ]
  },
  {
   "cell_type": "code",
   "execution_count": 20,
   "metadata": {},
   "outputs": [],
   "source": [
    "import pandas as pd\n",
    "from matplotlib import pyplot as plt\n",
    "from wordcloud import WordCloud\n",
    "import matplotlib\n",
    "matplotlib.use('TkAgg')\n",
    "\n",
    "text = new_df.message.str.cat(sep=' ')\n",
    "wordcloud = WordCloud(width=500, \n",
    "                   height=500, \n",
    "                   scale=3, \n",
    "                   min_font_size=10, \n",
    "                   background_color=\"rgb(222, 245, 229)\",\n",
    "                   mode=\"RGB\",\n",
    "                   margin=0).generate(text)\n",
    "plt.imshow(wordcloud, interpolation='bilinear')\n",
    "plt.axis(\"off\")\n",
    "plt.show()"
   ]
  },
  {
   "cell_type": "code",
   "execution_count": 10,
   "metadata": {},
   "outputs": [],
   "source": [
    "with open('Data/dhruv.txt', 'r', encoding='utf-8') as f:\n",
    "    df = f.read()\n",
    "\n",
    "from App.src.Preprocessor import preprocess\n",
    "df = preprocess(df)"
   ]
  },
  {
   "cell_type": "code",
   "execution_count": 34,
   "metadata": {},
   "outputs": [],
   "source": [
    "a = df[df['user']!='Zuckerberg'].reset_index()"
   ]
  },
  {
   "cell_type": "code",
   "execution_count": null,
   "metadata": {},
   "outputs": [],
   "source": [
    "new_df = df[df['user']!='Zuckerberg']\n",
    "new_df = new_df[~new_df['message'].isin(['<Media omitted>\\n', 'This message was deleted\\n', 'You deleted this message\\n'])]"
   ]
  },
  {
   "cell_type": "code",
   "execution_count": 6,
   "metadata": {},
   "outputs": [],
   "source": [
    "from collections import Counter\n",
    "final = text.split()"
   ]
  },
  {
   "cell_type": "code",
   "execution_count": 28,
   "metadata": {},
   "outputs": [
    {
     "data": {
      "text/plain": [
       "{'hai': 332,\n",
       " 'nhi': 220,\n",
       " 'to': 187,\n",
       " 'bhi': 166,\n",
       " 'h': 164,\n",
       " 'hi': 161,\n",
       " 'ke': 138,\n",
       " 'kar': 121,\n",
       " 'ki': 119,\n",
       " 'me': 112}"
      ]
     },
     "execution_count": 28,
     "metadata": {},
     "output_type": "execute_result"
    }
   ],
   "source": [
    "dict(Counter(final).most_common(10))"
   ]
  },
  {
   "cell_type": "code",
   "execution_count": 2,
   "metadata": {},
   "outputs": [
    {
     "data": {
      "text/html": [
       "<div>\n",
       "<style scoped>\n",
       "    .dataframe tbody tr th:only-of-type {\n",
       "        vertical-align: middle;\n",
       "    }\n",
       "\n",
       "    .dataframe tbody tr th {\n",
       "        vertical-align: top;\n",
       "    }\n",
       "\n",
       "    .dataframe thead th {\n",
       "        text-align: right;\n",
       "    }\n",
       "</style>\n",
       "<table border=\"1\" class=\"dataframe\">\n",
       "  <thead>\n",
       "    <tr style=\"text-align: right;\">\n",
       "      <th></th>\n",
       "      <th>year</th>\n",
       "      <th>month_num</th>\n",
       "      <th>month</th>\n",
       "      <th>message</th>\n",
       "    </tr>\n",
       "  </thead>\n",
       "  <tbody>\n",
       "    <tr>\n",
       "      <th>0</th>\n",
       "      <td>2021</td>\n",
       "      <td>8</td>\n",
       "      <td>August</td>\n",
       "      <td>35</td>\n",
       "    </tr>\n",
       "    <tr>\n",
       "      <th>1</th>\n",
       "      <td>2021</td>\n",
       "      <td>9</td>\n",
       "      <td>September</td>\n",
       "      <td>23</td>\n",
       "    </tr>\n",
       "    <tr>\n",
       "      <th>2</th>\n",
       "      <td>2021</td>\n",
       "      <td>10</td>\n",
       "      <td>October</td>\n",
       "      <td>56</td>\n",
       "    </tr>\n",
       "    <tr>\n",
       "      <th>3</th>\n",
       "      <td>2021</td>\n",
       "      <td>11</td>\n",
       "      <td>November</td>\n",
       "      <td>46</td>\n",
       "    </tr>\n",
       "    <tr>\n",
       "      <th>4</th>\n",
       "      <td>2021</td>\n",
       "      <td>12</td>\n",
       "      <td>December</td>\n",
       "      <td>85</td>\n",
       "    </tr>\n",
       "    <tr>\n",
       "      <th>5</th>\n",
       "      <td>2022</td>\n",
       "      <td>1</td>\n",
       "      <td>January</td>\n",
       "      <td>112</td>\n",
       "    </tr>\n",
       "    <tr>\n",
       "      <th>6</th>\n",
       "      <td>2022</td>\n",
       "      <td>2</td>\n",
       "      <td>February</td>\n",
       "      <td>139</td>\n",
       "    </tr>\n",
       "    <tr>\n",
       "      <th>7</th>\n",
       "      <td>2022</td>\n",
       "      <td>3</td>\n",
       "      <td>March</td>\n",
       "      <td>554</td>\n",
       "    </tr>\n",
       "    <tr>\n",
       "      <th>8</th>\n",
       "      <td>2022</td>\n",
       "      <td>4</td>\n",
       "      <td>April</td>\n",
       "      <td>341</td>\n",
       "    </tr>\n",
       "    <tr>\n",
       "      <th>9</th>\n",
       "      <td>2022</td>\n",
       "      <td>5</td>\n",
       "      <td>May</td>\n",
       "      <td>154</td>\n",
       "    </tr>\n",
       "    <tr>\n",
       "      <th>10</th>\n",
       "      <td>2022</td>\n",
       "      <td>6</td>\n",
       "      <td>June</td>\n",
       "      <td>165</td>\n",
       "    </tr>\n",
       "    <tr>\n",
       "      <th>11</th>\n",
       "      <td>2022</td>\n",
       "      <td>7</td>\n",
       "      <td>July</td>\n",
       "      <td>45</td>\n",
       "    </tr>\n",
       "    <tr>\n",
       "      <th>12</th>\n",
       "      <td>2022</td>\n",
       "      <td>8</td>\n",
       "      <td>August</td>\n",
       "      <td>292</td>\n",
       "    </tr>\n",
       "    <tr>\n",
       "      <th>13</th>\n",
       "      <td>2022</td>\n",
       "      <td>9</td>\n",
       "      <td>September</td>\n",
       "      <td>133</td>\n",
       "    </tr>\n",
       "    <tr>\n",
       "      <th>14</th>\n",
       "      <td>2022</td>\n",
       "      <td>10</td>\n",
       "      <td>October</td>\n",
       "      <td>149</td>\n",
       "    </tr>\n",
       "    <tr>\n",
       "      <th>15</th>\n",
       "      <td>2022</td>\n",
       "      <td>11</td>\n",
       "      <td>November</td>\n",
       "      <td>184</td>\n",
       "    </tr>\n",
       "    <tr>\n",
       "      <th>16</th>\n",
       "      <td>2022</td>\n",
       "      <td>12</td>\n",
       "      <td>December</td>\n",
       "      <td>45</td>\n",
       "    </tr>\n",
       "    <tr>\n",
       "      <th>17</th>\n",
       "      <td>2023</td>\n",
       "      <td>1</td>\n",
       "      <td>January</td>\n",
       "      <td>76</td>\n",
       "    </tr>\n",
       "    <tr>\n",
       "      <th>18</th>\n",
       "      <td>2023</td>\n",
       "      <td>2</td>\n",
       "      <td>February</td>\n",
       "      <td>158</td>\n",
       "    </tr>\n",
       "    <tr>\n",
       "      <th>19</th>\n",
       "      <td>2023</td>\n",
       "      <td>3</td>\n",
       "      <td>March</td>\n",
       "      <td>167</td>\n",
       "    </tr>\n",
       "    <tr>\n",
       "      <th>20</th>\n",
       "      <td>2023</td>\n",
       "      <td>4</td>\n",
       "      <td>April</td>\n",
       "      <td>743</td>\n",
       "    </tr>\n",
       "    <tr>\n",
       "      <th>21</th>\n",
       "      <td>2023</td>\n",
       "      <td>5</td>\n",
       "      <td>May</td>\n",
       "      <td>311</td>\n",
       "    </tr>\n",
       "    <tr>\n",
       "      <th>22</th>\n",
       "      <td>2023</td>\n",
       "      <td>6</td>\n",
       "      <td>June</td>\n",
       "      <td>33</td>\n",
       "    </tr>\n",
       "    <tr>\n",
       "      <th>23</th>\n",
       "      <td>2023</td>\n",
       "      <td>7</td>\n",
       "      <td>July</td>\n",
       "      <td>112</td>\n",
       "    </tr>\n",
       "    <tr>\n",
       "      <th>24</th>\n",
       "      <td>2023</td>\n",
       "      <td>8</td>\n",
       "      <td>August</td>\n",
       "      <td>95</td>\n",
       "    </tr>\n",
       "    <tr>\n",
       "      <th>25</th>\n",
       "      <td>2023</td>\n",
       "      <td>9</td>\n",
       "      <td>September</td>\n",
       "      <td>94</td>\n",
       "    </tr>\n",
       "    <tr>\n",
       "      <th>26</th>\n",
       "      <td>2023</td>\n",
       "      <td>10</td>\n",
       "      <td>October</td>\n",
       "      <td>39</td>\n",
       "    </tr>\n",
       "    <tr>\n",
       "      <th>27</th>\n",
       "      <td>2023</td>\n",
       "      <td>11</td>\n",
       "      <td>November</td>\n",
       "      <td>119</td>\n",
       "    </tr>\n",
       "    <tr>\n",
       "      <th>28</th>\n",
       "      <td>2023</td>\n",
       "      <td>12</td>\n",
       "      <td>December</td>\n",
       "      <td>19</td>\n",
       "    </tr>\n",
       "    <tr>\n",
       "      <th>29</th>\n",
       "      <td>2024</td>\n",
       "      <td>1</td>\n",
       "      <td>January</td>\n",
       "      <td>19</td>\n",
       "    </tr>\n",
       "  </tbody>\n",
       "</table>\n",
       "</div>"
      ],
      "text/plain": [
       "    year  month_num      month  message\n",
       "0   2021          8     August       35\n",
       "1   2021          9  September       23\n",
       "2   2021         10    October       56\n",
       "3   2021         11   November       46\n",
       "4   2021         12   December       85\n",
       "5   2022          1    January      112\n",
       "6   2022          2   February      139\n",
       "7   2022          3      March      554\n",
       "8   2022          4      April      341\n",
       "9   2022          5        May      154\n",
       "10  2022          6       June      165\n",
       "11  2022          7       July       45\n",
       "12  2022          8     August      292\n",
       "13  2022          9  September      133\n",
       "14  2022         10    October      149\n",
       "15  2022         11   November      184\n",
       "16  2022         12   December       45\n",
       "17  2023          1    January       76\n",
       "18  2023          2   February      158\n",
       "19  2023          3      March      167\n",
       "20  2023          4      April      743\n",
       "21  2023          5        May      311\n",
       "22  2023          6       June       33\n",
       "23  2023          7       July      112\n",
       "24  2023          8     August       95\n",
       "25  2023          9  September       94\n",
       "26  2023         10    October       39\n",
       "27  2023         11   November      119\n",
       "28  2023         12   December       19\n",
       "29  2024          1    January       19"
      ]
     },
     "execution_count": 2,
     "metadata": {},
     "output_type": "execute_result"
    }
   ],
   "source": [
    "time_df = df.groupby(['year', 'month_num', 'month']).count()['message'].reset_index()\n",
    "time_df"
   ]
  },
  {
   "cell_type": "code",
   "execution_count": 13,
   "metadata": {},
   "outputs": [
    {
     "data": {
      "text/plain": [
       "\"hello, this is akshat, here's the contact numbe for the guy :  and \""
      ]
     },
     "execution_count": 13,
     "metadata": {},
     "output_type": "execute_result"
    }
   ],
   "source": [
    "s = \"hello, this is akshat, here's the contact number for the guy : Broker Vadodara.vcf (file attached) and 6 contacts.vcf (file attached)\"\n",
    "\n",
    "import re\n",
    "def removeContacts(text):\n",
    "    p = re.compile(r\"[a-zA-Z0-9]* [A-z0-9]*\\.vcf\\s\\(file attached\\)\")\n",
    "    return p.sub(r'', text)\n",
    "\n",
    "removeContacts(s)"
   ]
  },
  {
   "cell_type": "code",
   "execution_count": null,
   "metadata": {},
   "outputs": [],
   "source": []
  }
 ],
 "metadata": {
  "kernelspec": {
   "display_name": "base",
   "language": "python",
   "name": "python3"
  },
  "language_info": {
   "codemirror_mode": {
    "name": "ipython",
    "version": 3
   },
   "file_extension": ".py",
   "mimetype": "text/x-python",
   "name": "python",
   "nbconvert_exporter": "python",
   "pygments_lexer": "ipython3",
   "version": "3.10.6"
  }
 },
 "nbformat": 4,
 "nbformat_minor": 2
}
