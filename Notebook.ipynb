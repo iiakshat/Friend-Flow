{
 "cells": [
  {
   "cell_type": "code",
   "execution_count": 1,
   "metadata": {},
   "outputs": [],
   "source": [
    "# Import Libraries,\n",
    "import pandas as pd\n",
    "import re"
   ]
  },
  {
   "cell_type": "code",
   "execution_count": 2,
   "metadata": {},
   "outputs": [],
   "source": [
    "# Read Data,\n",
    "path = 'Data/flipkart.txt'\n",
    "f = open(path, 'r', encoding='utf-8')\n",
    "txt = f.read()"
   ]
  },
  {
   "cell_type": "code",
   "execution_count": 3,
   "metadata": {},
   "outputs": [
    {
     "name": "stdout",
     "output_type": "stream",
     "text": [
      "09/10/21, 2:34 pm - Messages and calls are end-to-end encrypted. No one outside of this chat, not even WhatsApp, can read or listen to them. Tap to learn more.\n",
      "09/10/21, 2:34 pm - This chat is with the official business account of Flipkart. Tap to learn more.\n",
      "09/10/21, 2:34 pm - Flipkart: <Media omitted>\n",
      "09/10/21, 2:34 pm - This chat is with the official business account of Flipkart. Tap to learn more.\n",
      "12/11/21, 11:07 am - This business is now working with other companies to manage this chat. Tap to learn more.\n",
      "18/12/21, 10:10 pm - Flipkart: <Media omitted>\n"
     ]
    }
   ],
   "source": [
    "def fileReader(fileName, msgs, start=0):\n",
    "    try:\n",
    "        print(\"\\n\".join(fileName.split('\\n')[start:msgs]))\n",
    "    except:\n",
    "        print(\"\\n\".join(fileName[start:msgs]))\n",
    "\n",
    "fileReader(txt, 6)"
   ]
  },
  {
   "cell_type": "code",
   "execution_count": 4,
   "metadata": {},
   "outputs": [],
   "source": [
    "# Seperate the messages and dates,\n",
    "pattern = r'\\d{1,2}/\\d{1,2}/\\d{2,4},\\s\\d{1,2}:\\d{2}\\s[a-zA-Z]+\\s-\\s'\n",
    "texts = re.split(pattern, txt)[1:]"
   ]
  },
  {
   "cell_type": "code",
   "execution_count": 5,
   "metadata": {},
   "outputs": [
    {
     "name": "stdout",
     "output_type": "stream",
     "text": [
      "Messages and calls are end-to-end encrypted. No one outside of this chat, not even WhatsApp, can read or listen to them. Tap to learn more.\n",
      "\n",
      "This chat is with the official business account of Flipkart. Tap to learn more.\n",
      "\n",
      "Flipkart: <Media omitted>\n",
      "\n",
      "This chat is with the official business account of Flipkart. Tap to learn more.\n",
      "\n"
     ]
    }
   ],
   "source": [
    "fileReader(texts, 4)"
   ]
  },
  {
   "cell_type": "code",
   "execution_count": 6,
   "metadata": {},
   "outputs": [],
   "source": [
    "dates = re.findall(pattern, txt)"
   ]
  },
  {
   "cell_type": "code",
   "execution_count": 7,
   "metadata": {},
   "outputs": [
    {
     "name": "stdout",
     "output_type": "stream",
     "text": [
      "09/10/21, 2:34 pm - \n",
      "09/10/21, 2:34 pm - \n",
      "09/10/21, 2:34 pm - \n",
      "09/10/21, 2:34 pm - \n",
      "12/11/21, 11:07 am - \n",
      "18/12/21, 10:10 pm - \n"
     ]
    }
   ],
   "source": [
    "fileReader(dates, 6)"
   ]
  },
  {
   "cell_type": "code",
   "execution_count": 8,
   "metadata": {},
   "outputs": [
    {
     "data": {
      "text/plain": [
       "11"
      ]
     },
     "execution_count": 8,
     "metadata": {},
     "output_type": "execute_result"
    }
   ],
   "source": [
    "len(texts)"
   ]
  },
  {
   "cell_type": "code",
   "execution_count": 9,
   "metadata": {},
   "outputs": [
    {
     "data": {
      "text/html": [
       "<div>\n",
       "<style scoped>\n",
       "    .dataframe tbody tr th:only-of-type {\n",
       "        vertical-align: middle;\n",
       "    }\n",
       "\n",
       "    .dataframe tbody tr th {\n",
       "        vertical-align: top;\n",
       "    }\n",
       "\n",
       "    .dataframe thead th {\n",
       "        text-align: right;\n",
       "    }\n",
       "</style>\n",
       "<table border=\"1\" class=\"dataframe\">\n",
       "  <thead>\n",
       "    <tr style=\"text-align: right;\">\n",
       "      <th></th>\n",
       "      <th>messages</th>\n",
       "      <th>date</th>\n",
       "    </tr>\n",
       "  </thead>\n",
       "  <tbody>\n",
       "    <tr>\n",
       "      <th>1</th>\n",
       "      <td>This chat is with the official business accoun...</td>\n",
       "      <td>09/10/21, 2:34 pm -</td>\n",
       "    </tr>\n",
       "    <tr>\n",
       "      <th>5</th>\n",
       "      <td>Flipkart: &lt;Media omitted&gt;\\n</td>\n",
       "      <td>18/12/21, 10:10 pm -</td>\n",
       "    </tr>\n",
       "    <tr>\n",
       "      <th>7</th>\n",
       "      <td>Flipkart: Select what you want to buy: 👇Shoppi...</td>\n",
       "      <td>20/12/21, 5:27 pm -</td>\n",
       "    </tr>\n",
       "  </tbody>\n",
       "</table>\n",
       "</div>"
      ],
      "text/plain": [
       "                                            messages                   date\n",
       "1  This chat is with the official business accoun...   09/10/21, 2:34 pm - \n",
       "5                        Flipkart: <Media omitted>\\n  18/12/21, 10:10 pm - \n",
       "7  Flipkart: Select what you want to buy: 👇Shoppi...   20/12/21, 5:27 pm - "
      ]
     },
     "execution_count": 9,
     "metadata": {},
     "output_type": "execute_result"
    }
   ],
   "source": [
    "# Put everything into a data frame.\n",
    "dic = {\n",
    "    'messages' : texts,\n",
    "    'date' : dates\n",
    "}\n",
    "\n",
    "df = pd.DataFrame(dic)\n",
    "df.sample(3)"
   ]
  },
  {
   "cell_type": "code",
   "execution_count": 10,
   "metadata": {},
   "outputs": [
    {
     "data": {
      "text/plain": [
       "'09/10/21, 2:34\\u202fpm - '"
      ]
     },
     "execution_count": 10,
     "metadata": {},
     "output_type": "execute_result"
    }
   ],
   "source": [
    "# Change the date format to datetime format from a string,\n",
    "df.date[0]"
   ]
  },
  {
   "cell_type": "code",
   "execution_count": 11,
   "metadata": {},
   "outputs": [
    {
     "data": {
      "text/html": [
       "<div>\n",
       "<style scoped>\n",
       "    .dataframe tbody tr th:only-of-type {\n",
       "        vertical-align: middle;\n",
       "    }\n",
       "\n",
       "    .dataframe tbody tr th {\n",
       "        vertical-align: top;\n",
       "    }\n",
       "\n",
       "    .dataframe thead th {\n",
       "        text-align: right;\n",
       "    }\n",
       "</style>\n",
       "<table border=\"1\" class=\"dataframe\">\n",
       "  <thead>\n",
       "    <tr style=\"text-align: right;\">\n",
       "      <th></th>\n",
       "      <th>messages</th>\n",
       "      <th>date</th>\n",
       "    </tr>\n",
       "  </thead>\n",
       "  <tbody>\n",
       "    <tr>\n",
       "      <th>3</th>\n",
       "      <td>This chat is with the official business accoun...</td>\n",
       "      <td>2021-10-09 14:34:00</td>\n",
       "    </tr>\n",
       "  </tbody>\n",
       "</table>\n",
       "</div>"
      ],
      "text/plain": [
       "                                            messages                date\n",
       "3  This chat is with the official business accoun... 2021-10-09 14:34:00"
      ]
     },
     "execution_count": 11,
     "metadata": {},
     "output_type": "execute_result"
    }
   ],
   "source": [
    "df['date'] = pd.to_datetime(df['date'], format='%d/%m/%y, %I:%M %p - ')\n",
    "df.sample()"
   ]
  },
  {
   "cell_type": "code",
   "execution_count": 12,
   "metadata": {},
   "outputs": [
    {
     "name": "stdout",
     "output_type": "stream",
     "text": [
      "<class 'pandas.core.frame.DataFrame'>\n",
      "RangeIndex: 11 entries, 0 to 10\n",
      "Data columns (total 2 columns):\n",
      " #   Column    Non-Null Count  Dtype         \n",
      "---  ------    --------------  -----         \n",
      " 0   messages  11 non-null     object        \n",
      " 1   date      11 non-null     datetime64[ns]\n",
      "dtypes: datetime64[ns](1), object(1)\n",
      "memory usage: 304.0+ bytes\n"
     ]
    }
   ],
   "source": [
    "df.info()"
   ]
  },
  {
   "cell_type": "code",
   "execution_count": 13,
   "metadata": {},
   "outputs": [
    {
     "data": {
      "text/plain": [
       "(11, 2)"
      ]
     },
     "execution_count": 13,
     "metadata": {},
     "output_type": "execute_result"
    }
   ],
   "source": [
    "df.shape"
   ]
  },
  {
   "cell_type": "code",
   "execution_count": 14,
   "metadata": {},
   "outputs": [
    {
     "data": {
      "text/html": [
       "<div>\n",
       "<style scoped>\n",
       "    .dataframe tbody tr th:only-of-type {\n",
       "        vertical-align: middle;\n",
       "    }\n",
       "\n",
       "    .dataframe tbody tr th {\n",
       "        vertical-align: top;\n",
       "    }\n",
       "\n",
       "    .dataframe thead th {\n",
       "        text-align: right;\n",
       "    }\n",
       "</style>\n",
       "<table border=\"1\" class=\"dataframe\">\n",
       "  <thead>\n",
       "    <tr style=\"text-align: right;\">\n",
       "      <th></th>\n",
       "      <th>messages</th>\n",
       "      <th>date</th>\n",
       "      <th>Hour</th>\n",
       "      <th>Minute</th>\n",
       "      <th>Day</th>\n",
       "      <th>Month</th>\n",
       "      <th>Year</th>\n",
       "    </tr>\n",
       "  </thead>\n",
       "  <tbody>\n",
       "    <tr>\n",
       "      <th>4</th>\n",
       "      <td>This business is now working with other compan...</td>\n",
       "      <td>2021-11-12 11:07:00</td>\n",
       "      <td>11</td>\n",
       "      <td>7</td>\n",
       "      <td>12</td>\n",
       "      <td>November</td>\n",
       "      <td>2021</td>\n",
       "    </tr>\n",
       "    <tr>\n",
       "      <th>9</th>\n",
       "      <td>This business is now working with other compan...</td>\n",
       "      <td>2023-11-19 20:11:00</td>\n",
       "      <td>20</td>\n",
       "      <td>11</td>\n",
       "      <td>19</td>\n",
       "      <td>November</td>\n",
       "      <td>2023</td>\n",
       "    </tr>\n",
       "    <tr>\n",
       "      <th>3</th>\n",
       "      <td>This chat is with the official business accoun...</td>\n",
       "      <td>2021-10-09 14:34:00</td>\n",
       "      <td>14</td>\n",
       "      <td>34</td>\n",
       "      <td>9</td>\n",
       "      <td>October</td>\n",
       "      <td>2021</td>\n",
       "    </tr>\n",
       "    <tr>\n",
       "      <th>1</th>\n",
       "      <td>This chat is with the official business accoun...</td>\n",
       "      <td>2021-10-09 14:34:00</td>\n",
       "      <td>14</td>\n",
       "      <td>34</td>\n",
       "      <td>9</td>\n",
       "      <td>October</td>\n",
       "      <td>2021</td>\n",
       "    </tr>\n",
       "    <tr>\n",
       "      <th>8</th>\n",
       "      <td>Flipkart: &lt;Media omitted&gt;\\n</td>\n",
       "      <td>2022-06-12 14:00:00</td>\n",
       "      <td>14</td>\n",
       "      <td>0</td>\n",
       "      <td>12</td>\n",
       "      <td>June</td>\n",
       "      <td>2022</td>\n",
       "    </tr>\n",
       "  </tbody>\n",
       "</table>\n",
       "</div>"
      ],
      "text/plain": [
       "                                            messages                date  \\\n",
       "4  This business is now working with other compan... 2021-11-12 11:07:00   \n",
       "9  This business is now working with other compan... 2023-11-19 20:11:00   \n",
       "3  This chat is with the official business accoun... 2021-10-09 14:34:00   \n",
       "1  This chat is with the official business accoun... 2021-10-09 14:34:00   \n",
       "8                        Flipkart: <Media omitted>\\n 2022-06-12 14:00:00   \n",
       "\n",
       "   Hour  Minute  Day     Month  Year  \n",
       "4    11       7   12  November  2021  \n",
       "9    20      11   19  November  2023  \n",
       "3    14      34    9   October  2021  \n",
       "1    14      34    9   October  2021  \n",
       "8    14       0   12      June  2022  "
      ]
     },
     "execution_count": 14,
     "metadata": {},
     "output_type": "execute_result"
    }
   ],
   "source": [
    "def dateConversion(df):\n",
    "\n",
    "    df['Hour'] = df.date.dt.hour\n",
    "    df['Minute'] = df.date.dt.minute\n",
    "    df['Day'] = df.date.dt.day\n",
    "    df['Month'] = df.date.dt.month_name()\n",
    "    df['Year'] = df.date.dt.year\n",
    "\n",
    "    return df.sample(5)\n",
    "\n",
    "dateConversion(df)\n"
   ]
  },
  {
   "cell_type": "code",
   "execution_count": 15,
   "metadata": {},
   "outputs": [
    {
     "data": {
      "text/html": [
       "<div>\n",
       "<style scoped>\n",
       "    .dataframe tbody tr th:only-of-type {\n",
       "        vertical-align: middle;\n",
       "    }\n",
       "\n",
       "    .dataframe tbody tr th {\n",
       "        vertical-align: top;\n",
       "    }\n",
       "\n",
       "    .dataframe thead th {\n",
       "        text-align: right;\n",
       "    }\n",
       "</style>\n",
       "<table border=\"1\" class=\"dataframe\">\n",
       "  <thead>\n",
       "    <tr style=\"text-align: right;\">\n",
       "      <th></th>\n",
       "      <th>messages</th>\n",
       "      <th>date</th>\n",
       "      <th>Hour</th>\n",
       "      <th>Minute</th>\n",
       "      <th>Day</th>\n",
       "      <th>Month</th>\n",
       "      <th>Year</th>\n",
       "      <th>message</th>\n",
       "      <th>user</th>\n",
       "      <th>media</th>\n",
       "    </tr>\n",
       "  </thead>\n",
       "  <tbody>\n",
       "    <tr>\n",
       "      <th>4</th>\n",
       "      <td>This business is now working with other compan...</td>\n",
       "      <td>2021-11-12 11:07:00</td>\n",
       "      <td>11</td>\n",
       "      <td>7</td>\n",
       "      <td>12</td>\n",
       "      <td>November</td>\n",
       "      <td>2021</td>\n",
       "      <td>This business is now working with other compan...</td>\n",
       "      <td>Zuckerberg</td>\n",
       "      <td>0</td>\n",
       "    </tr>\n",
       "    <tr>\n",
       "      <th>9</th>\n",
       "      <td>This business is now working with other compan...</td>\n",
       "      <td>2023-11-19 20:11:00</td>\n",
       "      <td>20</td>\n",
       "      <td>11</td>\n",
       "      <td>19</td>\n",
       "      <td>November</td>\n",
       "      <td>2023</td>\n",
       "      <td>This business is now working with other compan...</td>\n",
       "      <td>Zuckerberg</td>\n",
       "      <td>0</td>\n",
       "    </tr>\n",
       "    <tr>\n",
       "      <th>1</th>\n",
       "      <td>This chat is with the official business accoun...</td>\n",
       "      <td>2021-10-09 14:34:00</td>\n",
       "      <td>14</td>\n",
       "      <td>34</td>\n",
       "      <td>9</td>\n",
       "      <td>October</td>\n",
       "      <td>2021</td>\n",
       "      <td>This chat is with the official business accoun...</td>\n",
       "      <td>Zuckerberg</td>\n",
       "      <td>0</td>\n",
       "    </tr>\n",
       "    <tr>\n",
       "      <th>8</th>\n",
       "      <td>Flipkart: &lt;Media omitted&gt;\\n</td>\n",
       "      <td>2022-06-12 14:00:00</td>\n",
       "      <td>14</td>\n",
       "      <td>0</td>\n",
       "      <td>12</td>\n",
       "      <td>June</td>\n",
       "      <td>2022</td>\n",
       "      <td>\\n</td>\n",
       "      <td>Flipkart</td>\n",
       "      <td>1</td>\n",
       "    </tr>\n",
       "    <tr>\n",
       "      <th>6</th>\n",
       "      <td>.: Menu\\n</td>\n",
       "      <td>2021-12-20 17:27:00</td>\n",
       "      <td>17</td>\n",
       "      <td>27</td>\n",
       "      <td>20</td>\n",
       "      <td>December</td>\n",
       "      <td>2021</td>\n",
       "      <td>Menu\\n</td>\n",
       "      <td>.</td>\n",
       "      <td>0</td>\n",
       "    </tr>\n",
       "  </tbody>\n",
       "</table>\n",
       "</div>"
      ],
      "text/plain": [
       "                                            messages                date  \\\n",
       "4  This business is now working with other compan... 2021-11-12 11:07:00   \n",
       "9  This business is now working with other compan... 2023-11-19 20:11:00   \n",
       "1  This chat is with the official business accoun... 2021-10-09 14:34:00   \n",
       "8                        Flipkart: <Media omitted>\\n 2022-06-12 14:00:00   \n",
       "6                                          .: Menu\\n 2021-12-20 17:27:00   \n",
       "\n",
       "   Hour  Minute  Day     Month  Year  \\\n",
       "4    11       7   12  November  2021   \n",
       "9    20      11   19  November  2023   \n",
       "1    14      34    9   October  2021   \n",
       "8    14       0   12      June  2022   \n",
       "6    17      27   20  December  2021   \n",
       "\n",
       "                                             message        user  media  \n",
       "4  This business is now working with other compan...  Zuckerberg      0  \n",
       "9  This business is now working with other compan...  Zuckerberg      0  \n",
       "1  This chat is with the official business accoun...  Zuckerberg      0  \n",
       "8                                                 \\n    Flipkart      1  \n",
       "6                                             Menu\\n           .      0  "
      ]
     },
     "execution_count": 15,
     "metadata": {},
     "output_type": "execute_result"
    }
   ],
   "source": [
    "def userSeperator(df):\n",
    "    '''\n",
    "    As the messages are in this format: {username}: {His/her message}\n",
    "    Use regex to match and seperate user and message.\n",
    "    '''\n",
    "    usernames = []\n",
    "    messages = []\n",
    "    media = []\n",
    "    pattern = '([\\w\\W]+?):\\s'\n",
    "\n",
    "    for chat in df['messages']:\n",
    "        \n",
    "        content = re.split(pattern, chat)\n",
    "\n",
    "        if content[1:]:      # beginning from the first index as content contains blank ('') string at 0th index.\n",
    "            usernames.append(content[1])\n",
    "            pt = \"<Media omitted>\"\n",
    "            st = content[2]\n",
    "            msg = re.split(pt, st)\n",
    "\n",
    "            if len(msg)==1:\n",
    "                media.append(0)\n",
    "                messages.append(msg[0])\n",
    "\n",
    "            else:\n",
    "                media.append(1)\n",
    "                messages.append(msg[1])\n",
    "\n",
    "        else:\n",
    "            usernames.append('Zuckerberg')\n",
    "            media.append(0)\n",
    "            messages.append(content[0])\n",
    "        \n",
    "    df['message'] = messages\n",
    "    df['user'] = usernames\n",
    "    df['media'] = media\n",
    "    \n",
    "    return df.sample(5)\n",
    "\n",
    "userSeperator(df)"
   ]
  },
  {
   "cell_type": "code",
   "execution_count": 16,
   "metadata": {},
   "outputs": [
    {
     "data": {
      "text/html": [
       "<div>\n",
       "<style scoped>\n",
       "    .dataframe tbody tr th:only-of-type {\n",
       "        vertical-align: middle;\n",
       "    }\n",
       "\n",
       "    .dataframe tbody tr th {\n",
       "        vertical-align: top;\n",
       "    }\n",
       "\n",
       "    .dataframe thead th {\n",
       "        text-align: right;\n",
       "    }\n",
       "</style>\n",
       "<table border=\"1\" class=\"dataframe\">\n",
       "  <thead>\n",
       "    <tr style=\"text-align: right;\">\n",
       "      <th></th>\n",
       "      <th>Hour</th>\n",
       "      <th>Minute</th>\n",
       "      <th>Day</th>\n",
       "      <th>Month</th>\n",
       "      <th>Year</th>\n",
       "      <th>message</th>\n",
       "      <th>user</th>\n",
       "      <th>media</th>\n",
       "    </tr>\n",
       "  </thead>\n",
       "  <tbody>\n",
       "    <tr>\n",
       "      <th>9</th>\n",
       "      <td>20</td>\n",
       "      <td>11</td>\n",
       "      <td>19</td>\n",
       "      <td>November</td>\n",
       "      <td>2023</td>\n",
       "      <td>This business is now working with other compan...</td>\n",
       "      <td>Zuckerberg</td>\n",
       "      <td>0</td>\n",
       "    </tr>\n",
       "    <tr>\n",
       "      <th>6</th>\n",
       "      <td>17</td>\n",
       "      <td>27</td>\n",
       "      <td>20</td>\n",
       "      <td>December</td>\n",
       "      <td>2021</td>\n",
       "      <td>Menu\\n</td>\n",
       "      <td>.</td>\n",
       "      <td>0</td>\n",
       "    </tr>\n",
       "  </tbody>\n",
       "</table>\n",
       "</div>"
      ],
      "text/plain": [
       "   Hour  Minute  Day     Month  Year  \\\n",
       "9    20      11   19  November  2023   \n",
       "6    17      27   20  December  2021   \n",
       "\n",
       "                                             message        user  media  \n",
       "9  This business is now working with other compan...  Zuckerberg      0  \n",
       "6                                             Menu\\n           .      0  "
      ]
     },
     "execution_count": 16,
     "metadata": {},
     "output_type": "execute_result"
    }
   ],
   "source": [
    "# Drop the unncessary columns,\n",
    "df.drop(columns=['date','messages'], inplace=True)\n",
    "df.sample(2)"
   ]
  },
  {
   "cell_type": "code",
   "execution_count": 17,
   "metadata": {},
   "outputs": [],
   "source": [
    "from wordcloud import WordCloud\n",
    "\n",
    "WordCloud()\n",
    "wc = WordCloud(width=500,height=500,min_font_size=10,colormap='tab20c',background_color=\"rgba(255, 255, 255, 0)\", mode=\"RGBA\")\n",
    "df_wc = wc.generate(df['message'].str.cat(sep=\" \"))"
   ]
  },
  {
   "cell_type": "code",
   "execution_count": 18,
   "metadata": {},
   "outputs": [
    {
     "data": {
      "text/plain": [
       "array(['Messages and calls are end-to-end encrypted. No one outside of this chat, not even WhatsApp, can read or listen to them. Tap to learn more.\\n',\n",
       "       'This chat is with the official business account of Flipkart. Tap to learn more.\\n',\n",
       "       '\\n',\n",
       "       'This chat is with the official business account of Flipkart. Tap to learn more.\\n',\n",
       "       'This business is now working with other companies to manage this chat. Tap to learn more.\\n',\n",
       "       '\\n', 'Menu\\n', '', '\\n',\n",
       "       'This business is now working with other companies to manage this chat. Tap to learn more.\\n',\n",
       "       'This business is now working with other companies to manage this chat. Tap to learn more.\\n'],\n",
       "      dtype=object)"
      ]
     },
     "execution_count": 18,
     "metadata": {},
     "output_type": "execute_result"
    }
   ],
   "source": [
    "df['message'].values"
   ]
  },
  {
   "cell_type": "code",
   "execution_count": 19,
   "metadata": {},
   "outputs": [
    {
     "data": {
      "text/plain": [
       "['menu']"
      ]
     },
     "execution_count": 19,
     "metadata": {},
     "output_type": "execute_result"
    }
   ],
   "source": [
    "from App.src import TextPreprocessor as tp\n",
    "\n",
    "with open('Data/stopwords.txt') as f:\n",
    "    stopwords = f.read()\n",
    "    \n",
    "new_df = df[df['user']!='Zuckerberg']\n",
    "processed_msgs = []\n",
    "for i in new_df['message'].values:\n",
    "    html = tp.removeHtml(i)\n",
    "    link = tp.removeUrl(html)\n",
    "    punc = tp.removePunc(link)\n",
    "    final_msg = punc.lower().split()\n",
    "\n",
    "    for word in final_msg:\n",
    "        if word not in stopwords:\n",
    "            processed_msgs.append(word)\n",
    "\n",
    "processed_msgs"
   ]
  },
  {
   "cell_type": "code",
   "execution_count": 21,
   "metadata": {},
   "outputs": [
    {
     "data": {
      "text/plain": [
       "<matplotlib.image.AxesImage at 0x1a4367253c0>"
      ]
     },
     "execution_count": 21,
     "metadata": {},
     "output_type": "execute_result"
    }
   ],
   "source": [
    "from App.src import Stats, TextPreprocessor\n",
    "import matplotlib.pyplot as plt\n",
    "Wc = Stats.frequent_words(df)\n",
    "fig,ax = plt.subplots()\n",
    "plt.axis('off')\n",
    "ax.imshow(Wc)"
   ]
  },
  {
   "cell_type": "code",
   "execution_count": 30,
   "metadata": {},
   "outputs": [
    {
     "data": {
      "text/plain": [
       "(11, 8)"
      ]
     },
     "execution_count": 30,
     "metadata": {},
     "output_type": "execute_result"
    }
   ],
   "source": [
    "df[~df['message'].isin(['<Media omitted>\\n', 'This message was deleted'])]"
   ]
  },
  {
   "cell_type": "code",
   "execution_count": null,
   "metadata": {},
   "outputs": [],
   "source": []
  }
 ],
 "metadata": {
  "kernelspec": {
   "display_name": "base",
   "language": "python",
   "name": "python3"
  },
  "language_info": {
   "codemirror_mode": {
    "name": "ipython",
    "version": 3
   },
   "file_extension": ".py",
   "mimetype": "text/x-python",
   "name": "python",
   "nbconvert_exporter": "python",
   "pygments_lexer": "ipython3",
   "version": "3.10.6"
  }
 },
 "nbformat": 4,
 "nbformat_minor": 2
}
